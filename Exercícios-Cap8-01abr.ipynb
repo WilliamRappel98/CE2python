{
 "cells": [
  {
   "cell_type": "markdown",
   "metadata": {},
   "source": [
    "Nome: William Edward Rappel de Amorim"
   ]
  },
  {
   "cell_type": "markdown",
   "metadata": {},
   "source": [
    "Matrícula: 17/0047385"
   ]
  },
  {
   "cell_type": "markdown",
   "metadata": {},
   "source": [
    "Computação em Estatística 2 - Python"
   ]
  },
  {
   "cell_type": "markdown",
   "metadata": {},
   "source": [
    "# Exercícios - Capítulo 8"
   ]
  },
  {
   "cell_type": "code",
   "execution_count": 18,
   "metadata": {},
   "outputs": [
    {
     "name": "stdout",
     "output_type": "stream",
     "text": [
      "Escreva o número de sua matricula17/0047385               \n",
      "Você deverá entregar os exercícios:  [175, 174]\n"
     ]
    }
   ],
   "source": [
    "import random\n",
    "\n",
    "def escolhe(matricula):\n",
    "    random.seed(matricula)\n",
    "    cap8 = (174,175,176,177,179,181,182,185)\n",
    "    return(random.sample(cap8, k=2))\n",
    "\n",
    "print(\"Você deverá entregar os exercícios: \", escolhe(input(\"Escreva o número de sua matricula\")))"
   ]
  },
  {
   "cell_type": "markdown",
   "metadata": {},
   "source": [
    "## Exercícios Obrigatórios"
   ]
  },
  {
   "cell_type": "markdown",
   "metadata": {},
   "source": [
    "### 174 - Greatest Common Divisor"
   ]
  },
  {
   "cell_type": "markdown",
   "metadata": {},
   "source": [
    "Euclid was a Greek mathematician who lived approximately 2,300 years ago. His algorithm for computing the greatest common divisor of two positive integers, a and b, is both efficient and recursive. It is outlined below:"
   ]
  },
  {
   "cell_type": "code",
   "execution_count": 19,
   "metadata": {},
   "outputs": [
    {
     "data": {
      "image/png": "[encoded data removed]",
      "text/plain": [
       "<IPython.core.display.Image object>"
      ]
     },
     "execution_count": 19,
     "metadata": {},
     "output_type": "execute_result"
    }
   ],
   "source": [
    "from IPython.display import Image\n",
    "Image('Imagens/Cap8-Ex174.png')"
   ]
  },
  {
   "cell_type": "markdown",
   "metadata": {},
   "source": [
    "Write a program that implements Euclid’s algorithm and uses it to determine the greatest common divisor of two integers entered by the user. Test your program with some very large integers. The result will be computed quickly, even for huge numbers\n",
    "consisting of hundreds of digits, because Euclid’s algorithm is extremely efficient."
   ]
  },
  {
   "cell_type": "code",
   "execution_count": 25,
   "metadata": {},
   "outputs": [
    {
     "name": "stdout",
     "output_type": "stream",
     "text": [
      "Digite o primeiro inteiro: 193648294700\n",
      "Digite o segundo inteiro: 285637482900\n",
      "O maior divisor comum entre 193648294700 e 285637482900 é 700\n"
     ]
    }
   ],
   "source": [
    "##\n",
    "# Computar o maior divisor comum entre dois inteiros positivos digitados pelo usuário.\n",
    "#\n",
    "\n",
    "##Algoritmo de Euclid\n",
    "# @param a primeiro inteiro positivo\n",
    "# @param b segundo inteiro positivo\n",
    "# @return o maior divisão comum de a e b\n",
    "def maiorDivisor(a,b):\n",
    "    if b == 0:\n",
    "        return a\n",
    "    else:\n",
    "        c = a % b\n",
    "        return maiorDivisor(b, c)\n",
    "    \n",
    "# Função principal\n",
    "def main():\n",
    "    # Lê os inteiros positivos\n",
    "    a = int(input(\"Digite o primeiro inteiro: \"))\n",
    "    b = int(input(\"Digite o segundo inteiro: \"))\n",
    "    \n",
    "    # Aplica a função maiorDivisor\n",
    "    resultado = maiorDivisor(a,b)\n",
    "    \n",
    "    # Output\n",
    "    print(\"O maior divisor comum entre\", a, \"e\", b, \"é\", resultado)\n",
    "\n",
    "# Chamando a função principal\n",
    "main()"
   ]
  },
  {
   "cell_type": "markdown",
   "metadata": {},
   "source": [
    "### 175 - Recursive Decimal to Binary"
   ]
  },
  {
   "cell_type": "markdown",
   "metadata": {},
   "source": [
    "In Exercise 82 you wrote a program that used a loop to convert a decimal number to its binary representation. In this exercise you will perform the same task using recursion.\n",
    "\n",
    "Write a recursive function that converts a non-negative decimal number to binary. Treat 0 and 1 as base cases which return a string containing the appropriate digit. For all other positive integers, n, you should compute the next digit using the remainder operator and then make a recursive call to compute the digits of n // 2. Finally, you should concatenate the result of the recursive call (which will be a string) and the next digit (which you will need to convert to a string) and return this string as the result of the function.\n",
    "\n",
    "Write a main program that uses your recursive function to convert a non-negative integer entered by the user from decimal to binary. Your program should display an appropriate error message if the user enters a negative value."
   ]
  },
  {
   "cell_type": "code",
   "execution_count": 33,
   "metadata": {},
   "outputs": [
    {
     "name": "stdout",
     "output_type": "stream",
     "text": [
      "Digite um número inteiro não negativo: 4096\n",
      "1000000000000\n"
     ]
    }
   ],
   "source": [
    "##\n",
    "# Transformar o número decimal digitado pelo usuário para binário.\n",
    "#\n",
    "\n",
    "##Função para transformar um número decimal para binário\n",
    "# @param n número decimal a ser transformado\n",
    "# @return representação binária de n\n",
    "def decimalBinario(n):\n",
    "    # Caso base 1\n",
    "    if n == 0:\n",
    "        return str(0)\n",
    "    \n",
    "    # Caso base 2\n",
    "    elif n == 1:\n",
    "        return str(1)\n",
    "    \n",
    "    # Casos recursivos\n",
    "    else:\n",
    "        parte_inteira = n // 2\n",
    "        resto = n % 2\n",
    "        return decimalBinario(parte_inteira) + str(resto)\n",
    "    \n",
    "# Função principal\n",
    "def main():\n",
    "    # Lê o inteiro não negativo digitado pelo usuário\n",
    "    x = int(input(\"Digite um número inteiro não negativo: \"))\n",
    "    if x < 0:\n",
    "        print(\"Erro! O valor digitado é negativo.\")\n",
    "    else:\n",
    "        print(decimalBinario(x))\n",
    "\n",
    "# Chamando a função principal\n",
    "main()"
   ]
  },
  {
   "cell_type": "markdown",
   "metadata": {},
   "source": [
    "## Exercícios Adicionais"
   ]
  },
  {
   "cell_type": "markdown",
   "metadata": {},
   "source": [
    "### 176 - The NATO Phonetic Alphabet"
   ]
  },
  {
   "cell_type": "markdown",
   "metadata": {},
   "source": [
    "A spelling alphabet is a set of words, each of which stands for one of the 26 letters in the alphabet. While many letters are easily misheard over a low quality or noisy communication channel, the words used to represent the letters in a spelling alphabet are generally chosen so that each sounds distinct and is difficult to confuse with any other. The NATO phonetic alphabet is a widely used spelling alphabet. Each letter and its associated word is shown in Table 8.1."
   ]
  },
  {
   "cell_type": "code",
   "execution_count": 34,
   "metadata": {},
   "outputs": [
    {
     "data": {
      "image/png": "[encoded data removed]",
      "text/plain": [
       "<IPython.core.display.Image object>"
      ]
     },
     "execution_count": 34,
     "metadata": {},
     "output_type": "execute_result"
    }
   ],
   "source": [
    "Image('Imagens/Cap8-Ex176.png')"
   ]
  },
  {
   "cell_type": "markdown",
   "metadata": {},
   "source": [
    "Write a program that reads a word from the user and then displays its phonetic spelling. For example, if the user enters Hello then the program should output Hotel Echo Lima Lima Oscar. Your program should use a recursive function to perform this task. Do not use a loop anywhere in your solution. Any non-letter characters entered by the user should be ignored."
   ]
  },
  {
   "cell_type": "code",
   "execution_count": 38,
   "metadata": {},
   "outputs": [
    {
     "name": "stdout",
     "output_type": "stream",
     "text": [
      "Digite uma palavra: Hello\n",
      "Hotel Echo Lima Lima Oscar \n"
     ]
    }
   ],
   "source": [
    "##\n",
    "# Transformar uma palavra para o NATO alfabeto fonético\n",
    "#\n",
    "\n",
    "# Importando o pacote re\n",
    "import re\n",
    "\n",
    "##Função para converter uma palavra para um dado alfabeto fonético\n",
    "# @param word palavra que será convertida\n",
    "# @param dici dicionario utilizado para a conversão\n",
    "# @return a palavra word convertida usando o dicionário dici\n",
    "def converterNATO(word, dici):\n",
    "    # Removendo caracteres que não são letras\n",
    "    word = re.sub('[^a-zA-Z]+', '', word)\n",
    "    \n",
    "    # Caso base\n",
    "    if word == '':\n",
    "        return ''\n",
    "    \n",
    "    # Caso recursivo\n",
    "    else:\n",
    "        return dici[word[0].upper()] + ' ' + converterNATO(word[1:], dici)\n",
    "\n",
    "# Dicionário NATO\n",
    "dici_NATO = {'A':'Alpha', 'B':'Bravo', 'C':'Charlie', 'D':'Delta', 'E':'Echo', \n",
    "             'F':'Foxtrot', 'G':'Golf', 'H':'Hotel', 'I':'India', 'J':'Juliet',\n",
    "             'K':'Kilo', 'L':'Lima', 'M':'Mike', 'N':'November', 'O':'Oscar', \n",
    "             'P':'Papa', 'Q':'Quebec', 'R':'Romeo', 'S':'Sierra', 'T':'Tango',\n",
    "             'U':'Uniform', 'V':'Victor', 'W':'Whiskey', 'X':'Xray', 'Y':'Yankee', 'Z':'Zulu'}\n",
    "\n",
    "# Função principal\n",
    "def main():\n",
    "    palavra = input(\"Digite uma palavra: \")\n",
    "    print(converterNATO(palavra, dici_NATO))\n",
    "    \n",
    "# Chamando a função principal\n",
    "main()"
   ]
  },
  {
   "cell_type": "markdown",
   "metadata": {},
   "source": [
    "### 177 - Roman Numerals"
   ]
  },
  {
   "cell_type": "markdown",
   "metadata": {},
   "source": [
    "As the name implies, Roman numerals were developed in ancient Rome. Even after the Roman empire fell, its numerals continued to be widely used in Europe until the late middle ages, and its numerals are still used in limited circumstances today.\n",
    "\n",
    "Roman numerals are constructed from the letters M, D, C, L, X, V and I which represent 1000, 500, 100, 50, 10, 5 and 1 respectively. The numerals are generally written from largest value to smallest value. When this occurs the value of the number\n",
    "is the sum of the values of all of its numerals. If a smaller value precedes a larger value then the smaller value is subtracted from the larger value that it immediately precedes, and that difference is added to the value of the number.\n",
    "\n",
    "Create a recursive function that converts a Roman numeral to an integer. Your function should process one or two characters at the beginning of the string, and then call itself recursively on all of the unprocessed characters. Use an empty string, which has the value 0, for the base case. In addition, write a main program that reads a Roman numeral from the user and displays its value. You can assume that the value entered by the user is valid. Your program does not need to do any error checking."
   ]
  },
  {
   "cell_type": "code",
   "execution_count": 40,
   "metadata": {},
   "outputs": [
    {
     "name": "stdout",
     "output_type": "stream",
     "text": [
      "Digite um número romano: LXIV\n",
      "64\n"
     ]
    }
   ],
   "source": [
    "##\n",
    "# Transformar um número romano para inteiro\n",
    "#\n",
    "\n",
    "##Função para converter um número romano para um número inteiro\n",
    "# @param romano string que contém o número romano\n",
    "# @param dici dicionário com as correspondências entre números romanos e inteiros\n",
    "# @return o número romano convertido para inteiro\n",
    "def romanoInteiro(romano, dici):\n",
    "    # Caso base\n",
    "    if romano == '':\n",
    "        return 0\n",
    "    \n",
    "    # Caso direto\n",
    "    elif romano in dici_romano:\n",
    "        return dici[romano]\n",
    "    \n",
    "    # Caso recursivo\n",
    "    else:\n",
    "        # Primeiro dígito\n",
    "        a = dici[romano[0]]\n",
    "        \n",
    "        # Segundo dígito\n",
    "        b = dici[romano[1]]\n",
    "        \n",
    "        if a < b:\n",
    "            return b - a + romanoInteiro(romano[2:], dici)\n",
    "        else:\n",
    "            return a + romanoInteiro(romano[1:], dici)\n",
    "    \n",
    "# Dicionário com as correspondências entre números romanos e inteiros\n",
    "dici_romano = {'M':1000, 'D':500, 'C':100, 'L':50, 'X':10, 'V':5, 'I':1}\n",
    "\n",
    "# Função principal\n",
    "def main():\n",
    "    x = input(\"Digite um número romano: \")\n",
    "    print(romanoInteiro(x, dici_romano))\n",
    "    \n",
    "# Chamando a função principal\n",
    "main()"
   ]
  },
  {
   "cell_type": "markdown",
   "metadata": {},
   "source": [
    "### 179 - Recursive Square Root"
   ]
  },
  {
   "cell_type": "markdown",
   "metadata": {},
   "source": [
    "Exercise 74 explored how iteration can be used to compute the square root of a number. In that exercise a better approximation of the square root was generated with each additional loop iteration. In this exercise you will use the same approximation\n",
    "strategy, but you will use recursion instead of a loop. \n",
    "\n",
    "Create a square root function with two parameters. The first parameter, n, will be the number for which the square root is being computed. The second parameter, guess, will be the current guess for the square root. The guess parameter should have a default value of 1.0. Do not provide a default value for the first parameter.\n",
    "\n",
    "Your square root function will be recursive. The base case occurs when square(guess) is within 10−12 of n. In this case your function should return guess because it is close enough to the square root of n. Otherwise your function should return the result of calling itself recursively with n as the first parameter and (guess + n/guess)/2 as the second parameter.\n",
    "\n",
    "Write a main program that demonstrate your square root function by computing the square root of several different values. When you call your square root function from the main program you should only pass one parameter to it so that the default value is used for guess."
   ]
  },
  {
   "cell_type": "code",
   "execution_count": 1,
   "metadata": {},
   "outputs": [
    {
     "name": "stdout",
     "output_type": "stream",
     "text": [
      "12.0\n",
      "13.0\n",
      "15.0\n",
      "5.0990195135927845\n"
     ]
    }
   ],
   "source": [
    "##\n",
    "# Calcular a raiz quadrada recursivamente\n",
    "#\n",
    "\n",
    "##Função recursiva para calcular a raiz quadrada\n",
    "# @param n valor do qual se deseja calcular a raiz quadrada\n",
    "# @param guess palpite atual para a raiz quadrada (default = 1)\n",
    "def raizQuadrada(n, guess = 1):\n",
    "    # Caso base\n",
    "    if abs(guess**2 - n) < 1e-12:\n",
    "        return guess\n",
    "    \n",
    "    # Caso recursivo\n",
    "    else:\n",
    "        novo = (guess + n/guess)/2\n",
    "        return raizQuadrada(n, novo)\n",
    "    \n",
    "# Função principal\n",
    "def main():\n",
    "    print(raizQuadrada(144))\n",
    "    print(raizQuadrada(169))\n",
    "    print(raizQuadrada(225))\n",
    "    print(raizQuadrada(26))\n",
    "\n",
    "# Chamando a função principal\n",
    "main()"
   ]
  },
  {
   "cell_type": "markdown",
   "metadata": {},
   "source": [
    "### 181 - Possible Change"
   ]
  },
  {
   "cell_type": "markdown",
   "metadata": {},
   "source": [
    "Create a program that determines whether or not it is possible to construct a particular total using a specific number of coins. For example, it is possible to have a total of 1.00 using four coins if they are all quarters. However, there is no way to have a total of 1.00 using 5 coins. Yet it is possible to have 1.00 using 6 coins by using 3 quarters, 2 dimes and a nickel. Similarly, a total of 1.25 can be formed using 5 coins or 8 coins, but a total of 1.25 cannot be formed using 4, 6 or 7 coins.\n",
    "\n",
    "Your program should read both the dollar amount and the number of coins from the user. Then it should display a clear message indicating whether or not the entered dollar amount can be formed using the number of coins indicated. Assume the existence of quarters, dimes, nickels and pennies when completing this problem. Your solution must use recursion. It cannot contain any loops."
   ]
  },
  {
   "cell_type": "code",
   "execution_count": 3,
   "metadata": {},
   "outputs": [
    {
     "name": "stdout",
     "output_type": "stream",
     "text": [
      "Digite a quantidade de dólares: 1\n",
      "Digite o número de moedas: 5\n",
      "Não é possível!\n"
     ]
    }
   ],
   "source": [
    "##\n",
    "# Calcular se é possível obter a quantidade em dinheiro para um número específico de moedas\n",
    "#\n",
    "\n",
    "##Função para verificar se é possível obter a quantidade, utilizando recursividade\n",
    "# @param money quantidade de dinheiro que será investigada\n",
    "# @param num quantidade de moedas\n",
    "# @return True se for possível e False caso contrário\n",
    "def moneyCoins(money, num):\n",
    "    # Caso base\n",
    "    if money == 0 and num == 0:\n",
    "        return True\n",
    "    \n",
    "    # Caso em que não é possível\n",
    "    elif money < 0 or num < 0:\n",
    "        return False\n",
    "    \n",
    "    # Casos recursivos\n",
    "    return moneyCoins(money - 1, num - 1) or moneyCoins(money - 1/4, num - 1) or moneyCoins(money - 1/10, num - 1) or\\\n",
    "           moneyCoins(money - 1/20, num - 1) or moneyCoins(money - 1/100, num - 1)\n",
    "\n",
    "# Função principal\n",
    "def main():\n",
    "    # Inputs do usuário\n",
    "    dinheiro = float(input(\"Digite a quantidade de dólares: \"))\n",
    "    n = int(input(\"Digite o número de moedas: \"))\n",
    "    \n",
    "    # Verificando se é possível\n",
    "    if moneyCoins(dinheiro, n):\n",
    "        print(\"É possível!\")\n",
    "    else:\n",
    "        print(\"Não é possível!\")\n",
    "\n",
    "# Chamando a função principal\n",
    "main()"
   ]
  },
  {
   "cell_type": "markdown",
   "metadata": {},
   "source": [
    "### 185 - Run-Length Decoding"
   ]
  },
  {
   "cell_type": "markdown",
   "metadata": {},
   "source": [
    "Run-length encoding is a simple data compression technique that can be effective when repeated values occur at adjacent positions within a list. Compression is achieved by replacing groups of repeated values with one copy of the value, followed\n",
    "by the number of times that it should be repeated. For example, the list \\[\"A\", \"A\", \"A\", \"A\", \"A\", \"A\", \"A\", \"A\", \"A\", \"A\", \"A\", \"A\", \"B\", \"B\", \"B\", \"B\", \"A\", \"A\", \"A\", \"A\", \"A\", \"A\", \"B\"\\] would be compressed as \\[\"A\", 12, \"B\", 4, \"A\", 6, \"B\", 1\\]. Decompression is performed by replicating each value in the list the number of times indicated.\n",
    "\n",
    "Write a recursive function that decompresses a run-length encoded list. Your recursive function will take a run-length compressed list as its only argument. It will return the decompressed list as its only result. Create a main program that displays a run-length encoded list and the result of decoding it."
   ]
  },
  {
   "cell_type": "code",
   "execution_count": 8,
   "metadata": {},
   "outputs": [
    {
     "name": "stdout",
     "output_type": "stream",
     "text": [
      "['W', 'I', 'L', 'L']\n"
     ]
    }
   ],
   "source": [
    "##\n",
    "# Decodificar uma lista codificada\n",
    "#\n",
    "\n",
    "##Função para decodificar a lista\n",
    "# @param encoded lista codificada\n",
    "# @return a lista encoded decodificada\n",
    "def decodificarLista(encoded):\n",
    "    # Caso base\n",
    "    if encoded == []:\n",
    "        return []\n",
    "    \n",
    "    # Caso recursivo\n",
    "    else:\n",
    "        nova = [encoded[0]]*encoded[1] + decodificarLista(encoded[2:])\n",
    "        return nova\n",
    "    \n",
    "# Função principal\n",
    "def main():\n",
    "    lista_codificada = [\"W\", 1, \"I\", 1, \"L\", 2]\n",
    "    print(decodificarLista(lista_codificada))\n",
    "\n",
    "# Chamando a função principal\n",
    "main()"
   ]
  }
 ],
 "metadata": {
  "kernelspec": {
   "display_name": "Python 3",
   "language": "python",
   "name": "python3"
  },
  "language_info": {
   "codemirror_mode": {
    "name": "ipython",
    "version": 3
   },
   "file_extension": ".py",
   "mimetype": "text/x-python",
   "name": "python",
   "nbconvert_exporter": "python",
   "pygments_lexer": "ipython3",
   "version": "3.8.5"
  }
 },
 "nbformat": 4,
 "nbformat_minor": 4
}
